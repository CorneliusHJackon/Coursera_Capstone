{
 "cells": [
  {
   "cell_type": "markdown",
   "metadata": {},
   "source": [
    "<h1 style=\"text-align:center;\">Where Should I Build a Dance Studio in Northern Virginia</h1> \n",
    "\n",
    "<h3 style=\"text-align:center;\">Applied Data Science Capstone Project Report</h3>\n",
    "<h4 style=\"text-align:center;\">IBM Data Science Professional Certificate</h4>\n",
    "<h5 style=\"text-align:center;\">By Cornelius H Jackson</h5>\n",
    "\n",
    "\n",
    "<TD style=\"FONT-SIZE:13px; COLOR:#000000; LINE-HEIGHT:10px; FONT-FAMILY:Arial,Helvetica,sans-serif\"></TD>\n",
    "    \n",
    "## Introduction\n",
    "\n",
    "Ten years ago, I started learning Hand Dancing.  I wasn't good at the time and did not even look like I would ever obtain the coordination and rhythm necessary to dance.  But through countless hours of learning and practicing, I have learned that I enjoy dancing and that it brings out a joyous feeling that makes me a better person.  As I want others to experience the same feelings for themselves, I would like to open a dance studio of my own.\n",
    "\n",
    "Since I live in Northern Virginia, I will study the Northern Virginia area to find out the best place for a new dance studio. I will start by gathering data concerning the Dance Studios within Northern Virginia to determine the best area by zip code to start a Dance Studio. I will gather data regarding the population and median income of each area.\n",
    "\n",
    "I will obtain data about the cities and counties in Northern Virginia from https://en.wikipedia.org/wiki/Northern_Virginia. Next, I will web scrap https://www.zipcodestogo.com/Virginia/ for the zip codes in each city and county within Northern Virginia. Next, I will write a program to pull the population, median household income, and latitude/longitude for each zip code from https://www.zipdatamaps.com. I will also pull data about dance studios within each zip code using FourSquare.  With all the data I gather, I will use the data to find an area that is close to the median of the dance studio frequency of Northern Virginia, as I would not want to open a studio in an area where competition is the highest.  I will use the relative frequency of the population and median household income to add value to the area for the studio, as more people offer more prospects, and a higher median household income yields more disposable income.\n"
   ]
  }
 ],
 "metadata": {
  "kernelspec": {
   "display_name": "Python 3",
   "language": "python",
   "name": "python3"
  },
  "language_info": {
   "codemirror_mode": {
    "name": "ipython",
    "version": 3
   },
   "file_extension": ".py",
   "mimetype": "text/x-python",
   "name": "python",
   "nbconvert_exporter": "python",
   "pygments_lexer": "ipython3",
   "version": "3.7.6"
  }
 },
 "nbformat": 4,
 "nbformat_minor": 4
}
